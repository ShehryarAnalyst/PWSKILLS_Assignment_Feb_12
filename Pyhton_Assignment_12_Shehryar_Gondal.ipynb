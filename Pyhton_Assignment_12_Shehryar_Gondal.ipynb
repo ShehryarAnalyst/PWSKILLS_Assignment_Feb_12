{
 "cells": [
  {
   "cell_type": "markdown",
   "id": "6253d0ae",
   "metadata": {},
   "source": [
    "## Assignments  Question"
   ]
  },
  {
   "cell_type": "markdown",
   "id": "44ef1f6f",
   "metadata": {},
   "source": [
    "__Q1. What is an Exception in python? Write the difference between Exceptions and Syntax errors ?__\n",
    "\n",
    "__Ans__ An __Exception__ is an error that occurs during program execution that disrupts the normal flow of the program.Exceptions can be caused by a variety of reasons, such as a coding mistake, a runtime error.\n",
    "Syntax errors occur when the Python interpreter encounters code that does not conform to the language's syntax rules. Syntax errors are typically caused by misspellings, or incorrect formatting. <br>\n",
    "The __main difference__ between exceptions and syntax errors is that exceptions occur during program execution, while syntax errors are detected by the Python interpreter before the program is executed. "
   ]
  },
  {
   "cell_type": "markdown",
   "id": "178d33e4",
   "metadata": {},
   "source": [
    "__Q2. What happens when an exception is not handled? Explain with an example ?__\n",
    "\n",
    "__Ans)__ When an exception is not handled in a Python program, it will result in the program terminating and displaying an error message to the user. This is known as an unhandled exception.\n",
    "\n",
    "Here is an example of an unhandled exception in Python: <br>"
   ]
  },
  {
   "cell_type": "code",
   "execution_count": 1,
   "id": "b5709736",
   "metadata": {},
   "outputs": [
    {
     "ename": "ZeroDivisionError",
     "evalue": "division by zero",
     "output_type": "error",
     "traceback": [
      "\u001b[1;31m---------------------------------------------------------------------------\u001b[0m",
      "\u001b[1;31mZeroDivisionError\u001b[0m                         Traceback (most recent call last)",
      "Input \u001b[1;32mIn [1]\u001b[0m, in \u001b[0;36m<cell line: 5>\u001b[1;34m()\u001b[0m\n\u001b[0;32m      2\u001b[0m     result \u001b[38;5;241m=\u001b[39m a \u001b[38;5;241m/\u001b[39m b\n\u001b[0;32m      3\u001b[0m     \u001b[38;5;28;01mreturn\u001b[39;00m result\n\u001b[1;32m----> 5\u001b[0m \u001b[38;5;28mprint\u001b[39m(\u001b[43mdivide_numbers\u001b[49m\u001b[43m(\u001b[49m\u001b[38;5;241;43m10\u001b[39;49m\u001b[43m,\u001b[49m\u001b[43m \u001b[49m\u001b[38;5;241;43m0\u001b[39;49m\u001b[43m)\u001b[49m)\n",
      "Input \u001b[1;32mIn [1]\u001b[0m, in \u001b[0;36mdivide_numbers\u001b[1;34m(a, b)\u001b[0m\n\u001b[0;32m      1\u001b[0m \u001b[38;5;28;01mdef\u001b[39;00m \u001b[38;5;21mdivide_numbers\u001b[39m(a, b):\n\u001b[1;32m----> 2\u001b[0m     result \u001b[38;5;241m=\u001b[39m \u001b[43ma\u001b[49m\u001b[43m \u001b[49m\u001b[38;5;241;43m/\u001b[39;49m\u001b[43m \u001b[49m\u001b[43mb\u001b[49m\n\u001b[0;32m      3\u001b[0m     \u001b[38;5;28;01mreturn\u001b[39;00m result\n",
      "\u001b[1;31mZeroDivisionError\u001b[0m: division by zero"
     ]
    }
   ],
   "source": [
    "def divide_numbers(a, b):\n",
    "    result = a / b\n",
    "    return result\n",
    "\n",
    "print(divide_numbers(10, 0))"
   ]
  },
  {
   "cell_type": "markdown",
   "id": "e4053ce6",
   "metadata": {},
   "source": [
    "__To Handle this exception__"
   ]
  },
  {
   "cell_type": "code",
   "execution_count": 2,
   "id": "eb4b8afd",
   "metadata": {},
   "outputs": [
    {
     "name": "stdout",
     "output_type": "stream",
     "text": [
      "Error: division by zero\n",
      "None\n"
     ]
    }
   ],
   "source": [
    "def divide_numbers(a, b):\n",
    "    try:\n",
    "        result = a / b\n",
    "    except ZeroDivisionError:\n",
    "        print(\"Error: division by zero\")\n",
    "        return None\n",
    "    return result\n",
    "\n",
    "print(divide_numbers(10, 0))"
   ]
  },
  {
   "cell_type": "markdown",
   "id": "24b797e9",
   "metadata": {},
   "source": [
    "__Q3. Which Python statements are used to catch and handle exceptions? Explain with an example ? __\n",
    "\n",
    "__Ans)__ In Python, the try statement is used to catch and handle exceptions. The try block contains the code that may raise an exception, and the except block is used to handle the exception if it is raised.<br>\n",
    "__Here's an example:__"
   ]
  },
  {
   "cell_type": "code",
   "execution_count": 3,
   "id": "c93e832a",
   "metadata": {},
   "outputs": [
    {
     "name": "stdout",
     "output_type": "stream",
     "text": [
      "Error: division by zero\n",
      "None\n"
     ]
    }
   ],
   "source": [
    "def divide_numbers(a, b):\n",
    "    try:\n",
    "        result = a / b\n",
    "    except ZeroDivisionError:\n",
    "        print(\"Error: division by zero\")\n",
    "        return None\n",
    "    return result\n",
    "\n",
    "print(divide_numbers(10, 0))"
   ]
  },
  {
   "cell_type": "markdown",
   "id": "5c05c574",
   "metadata": {},
   "source": [
    "__Q4. Explain with an example:__\n",
    "1. try and else\n",
    "2. finally\n",
    "3. raise "
   ]
  },
  {
   "cell_type": "markdown",
   "id": "3a2f20a0",
   "metadata": {},
   "source": [
    "1. __try and else__:<br>\n",
    "We can use the else block with the try-except statement to specify a block of code that should be executed if no exception is raised. <br>\n",
    "__Here's an example:__"
   ]
  },
  {
   "cell_type": "code",
   "execution_count": 4,
   "id": "d1d2f81b",
   "metadata": {},
   "outputs": [],
   "source": [
    "#always try to log your error\n",
    "import logging\n",
    "logging.basicConfig(filename = \"error.log\" , level = logging.ERROR)\n",
    "try :\n",
    "    10/0\n",
    "except ZeroDivisionError as e :\n",
    "    logging.error(\"i am trying to handle a zerodivision error {} \".format(e) )\n",
    "else:\n",
    "    print(\"Else is executed when try run succesfully\")"
   ]
  },
  {
   "cell_type": "markdown",
   "id": "d0e424c6",
   "metadata": {},
   "source": [
    "2. __finally:__ <br>\n",
    "We use  the finally block can be used with the try-except statement to specify a block of code that should be executed regardless of whether an exception is raised or not. <br>\n",
    "__Here's an example:__<br>"
   ]
  },
  {
   "cell_type": "code",
   "execution_count": 5,
   "id": "c0b25a7f",
   "metadata": {},
   "outputs": [
    {
     "name": "stdout",
     "output_type": "stream",
     "text": [
      "This part runs that try is run successfully or not\n"
     ]
    }
   ],
   "source": [
    "#always try to log your error\n",
    "import logging\n",
    "logging.basicConfig(filename = \"error.log\" , level = logging.ERROR)\n",
    "try :\n",
    "    10/0\n",
    "except ZeroDivisionError as e :\n",
    "    logging.error(\"i am trying to handle a zerodivision error {} \".format(e) )\n",
    "else:\n",
    "    print(\"Else is executed when try run succesfully\")\n",
    "finally:\n",
    "    print(\"This part runs that try is run successfully or not\")"
   ]
  },
  {
   "cell_type": "markdown",
   "id": "9072aa78",
   "metadata": {},
   "source": [
    "3. __raise__ <br>\n",
    "you can use the raise statement to manually raise an exception. <br>\n",
    "__Here's an example__: <br>"
   ]
  },
  {
   "cell_type": "code",
   "execution_count": 7,
   "id": "abd2daa4",
   "metadata": {},
   "outputs": [
    {
     "name": "stdout",
     "output_type": "stream",
     "text": [
      "Number is positive\n"
     ]
    }
   ],
   "source": [
    "def check_positive_num(num):\n",
    "    if num < 0:\n",
    "        raise ValueError(\"Number must be positive\")\n",
    "    else:\n",
    "        print(\"Number is positive\")\n",
    "\n",
    "check_positive_num(5)"
   ]
  },
  {
   "cell_type": "markdown",
   "id": "c173dcd5",
   "metadata": {},
   "source": [
    "__Q5. What are Custom Exceptions in python? Why do we need Custom Exceptions?__\n",
    "\n",
    "__Ans)__ Custom exceptions in Python are user-defined exceptions that can be raised when a specific error condition occurs in a program. They are defined by inheriting from the built-in Exception class and can be used to improve code organization, error handling, and readability. Custom exceptions provide more meaningful error messages and allow for more specific and granular error handling."
   ]
  },
  {
   "cell_type": "markdown",
   "id": "f0824855",
   "metadata": {},
   "source": [
    "__Q6. Create a custom exception class. Use this class to handle an exception.__"
   ]
  },
  {
   "cell_type": "code",
   "execution_count": 8,
   "id": "4981fed4",
   "metadata": {},
   "outputs": [],
   "source": [
    "class validateage(Exception):\n",
    "    \n",
    "    def __init__(self , msg) : \n",
    "        self.msg = msg"
   ]
  },
  {
   "cell_type": "code",
   "execution_count": 9,
   "id": "471cb0d4",
   "metadata": {},
   "outputs": [],
   "source": [
    "def validaetage(age) : \n",
    "    if age < 0 :\n",
    "        raise validateage(\"entered age is negative \" )\n",
    "    elif age > 200 : \n",
    "        raise validateage(\"enterd age is very very high \" )\n",
    "    else :\n",
    "        print(\"age is valid\" )"
   ]
  },
  {
   "cell_type": "code",
   "execution_count": 10,
   "id": "956f0d79",
   "metadata": {},
   "outputs": [
    {
     "name": "stdout",
     "output_type": "stream",
     "text": [
      "enter your age45\n",
      "age is valid\n"
     ]
    }
   ],
   "source": [
    "try :\n",
    "    age = int(input(\"enter your age\" ))\n",
    "    validaetage(age)\n",
    "except validateage as e :\n",
    "    print(e)"
   ]
  },
  {
   "cell_type": "markdown",
   "id": "99e841e2",
   "metadata": {},
   "source": [
    "-------------------------------------------------------------------------------------------- __End__----------------------------------------------------------------------------------------------------------------"
   ]
  }
 ],
 "metadata": {
  "kernelspec": {
   "display_name": "Python 3 (ipykernel)",
   "language": "python",
   "name": "python3"
  },
  "language_info": {
   "codemirror_mode": {
    "name": "ipython",
    "version": 3
   },
   "file_extension": ".py",
   "mimetype": "text/x-python",
   "name": "python",
   "nbconvert_exporter": "python",
   "pygments_lexer": "ipython3",
   "version": "3.9.12"
  },
  "varInspector": {
   "cols": {
    "lenName": 16,
    "lenType": 16,
    "lenVar": 40
   },
   "kernels_config": {
    "python": {
     "delete_cmd_postfix": "",
     "delete_cmd_prefix": "del ",
     "library": "var_list.py",
     "varRefreshCmd": "print(var_dic_list())"
    },
    "r": {
     "delete_cmd_postfix": ") ",
     "delete_cmd_prefix": "rm(",
     "library": "var_list.r",
     "varRefreshCmd": "cat(var_dic_list()) "
    }
   },
   "types_to_exclude": [
    "module",
    "function",
    "builtin_function_or_method",
    "instance",
    "_Feature"
   ],
   "window_display": false
  }
 },
 "nbformat": 4,
 "nbformat_minor": 5
}
